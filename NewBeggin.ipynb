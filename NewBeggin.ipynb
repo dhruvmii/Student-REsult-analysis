{
 "cells": [
  {
   "cell_type": "code",
   "execution_count": 1,
   "id": "0a9ab827",
   "metadata": {},
   "outputs": [
    {
     "name": "stdout",
     "output_type": "stream",
     "text": [
      "hello world \n"
     ]
    }
   ],
   "source": [
    "print(\"hello world \")"
   ]
  },
  {
   "cell_type": "code",
   "execution_count": 2,
   "id": "1e668e53",
   "metadata": {},
   "outputs": [],
   "source": [
    "#systmm"
   ]
  },
  {
   "cell_type": "code",
   "execution_count": 3,
   "id": "d6347334",
   "metadata": {},
   "outputs": [
    {
     "name": "stdout",
     "output_type": "stream",
     "text": [
      "dataanalysis\n"
     ]
    }
   ],
   "source": [
    "a = \"dataanalysis\"\n",
    "print(a)"
   ]
  },
  {
   "cell_type": "code",
   "execution_count": 4,
   "id": "a22a2c82",
   "metadata": {},
   "outputs": [
    {
     "name": "stdout",
     "output_type": "stream",
     "text": [
      "enter your namedhruv\n",
      "dhruv\n"
     ]
    }
   ],
   "source": [
    "name = input(\"enter your name\")\n",
    "print(name)"
   ]
  },
  {
   "cell_type": "code",
   "execution_count": 5,
   "id": "50510d8f",
   "metadata": {},
   "outputs": [
    {
     "name": "stdout",
     "output_type": "stream",
     "text": [
      "enter age16\n"
     ]
    }
   ],
   "source": [
    "age = int(input(\"enter age\"))"
   ]
  },
  {
   "cell_type": "code",
   "execution_count": 10,
   "id": "11414d69",
   "metadata": {},
   "outputs": [
    {
     "name": "stdout",
     "output_type": "stream",
     "text": [
      "<class 'int'>\n",
      "<class 'float'>\n",
      "<class 'float'>\n"
     ]
    }
   ],
   "source": [
    "a = 45\n",
    "b = 5.600\n",
    "print(type(a))\n",
    "print(type(b))\n",
    "c =a + b \n",
    "print(type(c))"
   ]
  },
  {
   "cell_type": "code",
   "execution_count": 1,
   "id": "3bfe0898",
   "metadata": {},
   "outputs": [
    {
     "name": "stdout",
     "output_type": "stream",
     "text": [
      "1\n"
     ]
    }
   ],
   "source": [
    "a = 19\n",
    "b = 3 \n",
    "print(a%b)"
   ]
  },
  {
   "cell_type": "code",
   "execution_count": 2,
   "id": "38136f60",
   "metadata": {},
   "outputs": [
    {
     "name": "stdout",
     "output_type": "stream",
     "text": [
      "1\n"
     ]
    }
   ],
   "source": [
    "a = 67\n",
    "b =3 \n",
    "print(a%b)"
   ]
  },
  {
   "cell_type": "code",
   "execution_count": 3,
   "id": "da9ea0dd",
   "metadata": {},
   "outputs": [
    {
     "name": "stdout",
     "output_type": "stream",
     "text": [
      "True\n"
     ]
    }
   ],
   "source": [
    "print(3>4 or 3<4)"
   ]
  },
  {
   "cell_type": "code",
   "execution_count": 4,
   "id": "f37cd356",
   "metadata": {},
   "outputs": [
    {
     "name": "stdout",
     "output_type": "stream",
     "text": [
      "False\n"
     ]
    }
   ],
   "source": [
    "print(not(3>4 or 3<4))"
   ]
  },
  {
   "cell_type": "code",
   "execution_count": 5,
   "id": "7cfefdda",
   "metadata": {},
   "outputs": [
    {
     "name": "stdout",
     "output_type": "stream",
     "text": [
      "False\n"
     ]
    }
   ],
   "source": [
    "a = 1234\n",
    "b = \"1234\"\n",
    "print(a is b)"
   ]
  },
  {
   "cell_type": "code",
   "execution_count": 6,
   "id": "1275865d",
   "metadata": {},
   "outputs": [
    {
     "name": "stdout",
     "output_type": "stream",
     "text": [
      "True\n"
     ]
    }
   ],
   "source": [
    "a = 1234\n",
    "b = \"1234\"\n",
    "print(a is not b)"
   ]
  },
  {
   "cell_type": "code",
   "execution_count": 7,
   "id": "20d2ee17",
   "metadata": {},
   "outputs": [
    {
     "name": "stdout",
     "output_type": "stream",
     "text": [
      "8\n"
     ]
    }
   ],
   "source": [
    "a = 10\n",
    "b = 8\n",
    "print(a & b)"
   ]
  },
  {
   "cell_type": "code",
   "execution_count": 1,
   "id": "cf93cd42",
   "metadata": {},
   "outputs": [
    {
     "name": "stdout",
     "output_type": "stream",
     "text": [
      "True\n"
     ]
    }
   ],
   "source": [
    "a = \"hello\"\n",
    "print(\"e\" in a)"
   ]
  },
  {
   "cell_type": "code",
   "execution_count": 3,
   "id": "c934397d",
   "metadata": {},
   "outputs": [
    {
     "ename": "IndentationError",
     "evalue": "unexpected indent (117922725.py, line 2)",
     "output_type": "error",
     "traceback": [
      "\u001b[1;36m  Cell \u001b[1;32mIn[3], line 2\u001b[1;36m\u001b[0m\n\u001b[1;33m    if mark > 90:\u001b[0m\n\u001b[1;37m    ^\u001b[0m\n\u001b[1;31mIndentationError\u001b[0m\u001b[1;31m:\u001b[0m unexpected indent\n"
     ]
    }
   ],
   "source": [
    " mark = 91\n",
    "    if mark > 90:\n",
    "        print('you will get a mobile phone')\n",
    "        print('thank you')"
   ]
  },
  {
   "cell_type": "code",
   "execution_count": 4,
   "id": "3058591b",
   "metadata": {},
   "outputs": [
    {
     "name": "stdout",
     "output_type": "stream",
     "text": [
      "you will get a mobile phone\n",
      "thank you\n"
     ]
    }
   ],
   "source": [
    "mark = 91\n",
    "if mark > 90:\n",
    "    print('you will get a mobile phone')\n",
    "    print('thank you')\n"
   ]
  },
  {
   "cell_type": "code",
   "execution_count": 9,
   "id": "4f7e0a88",
   "metadata": {},
   "outputs": [
    {
     "name": "stdout",
     "output_type": "stream",
     "text": [
      "you will get a phone\n"
     ]
    }
   ],
   "source": [
    "mark = 92\n",
    "if mark >= 90 :\n",
    "    print(\"you will get a phone\")\n",
    "else: \n",
    "    print(\"no phone for 1 week\")\n"
   ]
  },
  {
   "cell_type": "code",
   "execution_count": null,
   "id": "3ebbf37b",
   "metadata": {},
   "outputs": [],
   "source": [
    "mark = 95 \n",
    "if mark >= 90 :\n",
    "    print(\"you can go to trip\")\n",
    "elif mark >= 80 and mark < 90:\n",
    "    print(\"you will get a new phone\")\n",
    "elif mark >= 70 and mark < 80:\n",
    "    print(\"you will get a new book\")\n",
    "else:\n",
    "    print(\"you will not get your phone back\")"
   ]
  },
  {
   "cell_type": "code",
   "execution_count": null,
   "id": "137aa373",
   "metadata": {},
   "outputs": [],
   "source": [
    "mark = 96\n",
    "if marks>= 85:\n",
    "    print(\"you will get a new phone\")\n",
    "if marks>95 "
   ]
  },
  {
   "cell_type": "code",
   "execution_count": null,
   "id": "1530f5b1",
   "metadata": {},
   "outputs": [],
   "source": [
    "i = 1\n",
    "n = 5\n",
    "while i<=n :\n",
    "    print(i)\n",
    "    i = i + 1"
   ]
  },
  {
   "cell_type": "code",
   "execution_count": null,
   "id": "2211bef1",
   "metadata": {},
   "outputs": [],
   "source": [
    "x = int(input(\"enter your value\"))\n",
    "i = 1\n",
    "while i<= 10:\n",
    "    print(x*i)\n",
    "    i = i + 1\n",
    "    print(\"this is the multiplication table\")"
   ]
  },
  {
   "cell_type": "code",
   "execution_count": null,
   "id": "72b25bf7",
   "metadata": {},
   "outputs": [],
   "source": [
    "mark = 96\n",
    "if marks>= 85:\n",
    "    print(\"you will get a new phone\")\n",
    "if marks>95 "
   ]
  },
  {
   "cell_type": "code",
   "execution_count": null,
   "id": "8eba9c9e",
   "metadata": {},
   "outputs": [],
   "source": []
  },
  {
   "cell_type": "code",
   "execution_count": null,
   "id": "423674ab",
   "metadata": {},
   "outputs": [],
   "source": []
  },
  {
   "cell_type": "code",
   "execution_count": null,
   "id": "e301aba5",
   "metadata": {},
   "outputs": [],
   "source": []
  },
  {
   "cell_type": "code",
   "execution_count": null,
   "id": "6a8beed2",
   "metadata": {},
   "outputs": [],
   "source": []
  },
  {
   "cell_type": "code",
   "execution_count": null,
   "id": "b00faf0f",
   "metadata": {},
   "outputs": [],
   "source": []
  }
 ],
 "metadata": {
  "kernelspec": {
   "display_name": "Python 3 (ipykernel)",
   "language": "python",
   "name": "python3"
  },
  "language_info": {
   "codemirror_mode": {
    "name": "ipython",
    "version": 3
   },
   "file_extension": ".py",
   "mimetype": "text/x-python",
   "name": "python",
   "nbconvert_exporter": "python",
   "pygments_lexer": "ipython3",
   "version": "3.11.4"
  }
 },
 "nbformat": 4,
 "nbformat_minor": 5
}
